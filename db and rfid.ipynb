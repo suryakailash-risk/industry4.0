{
 "cells": [
  {
   "cell_type": "code",
   "execution_count": 4,
   "metadata": {},
   "outputs": [],
   "source": [
    "import sqlite3;\n",
    "import paho.mqtt.client as mqttClient\n",
    "import time"
   ]
  },
  {
   "cell_type": "code",
   "execution_count": 5,
   "metadata": {},
   "outputs": [],
   "source": [
    "def on_connect(client, userdata, flags, rc):\n",
    " \n",
    "    if rc == 0:\n",
    " \n",
    "        print(\"Connected to broker\")\n",
    " \n",
    "        global Connected                #Use global variable\n",
    "        #Connected = True                #Signal connection \n",
    " \n",
    "    else:\n",
    " \n",
    "        print(\"Connection failed\")\n",
    " \n",
    "#Connected = False   #global variable for the state of the connection"
   ]
  },
  {
   "cell_type": "code",
   "execution_count": 7,
   "metadata": {
    "scrolled": true
   },
   "outputs": [
    {
     "ename": "NameError",
     "evalue": "name 'client' is not defined",
     "output_type": "error",
     "traceback": [
      "\u001b[1;31m---------------------------------------------------------------------------\u001b[0m",
      "\u001b[1;31mNameError\u001b[0m                                 Traceback (most recent call last)",
      "\u001b[1;32m<ipython-input-7-09a41611b3b1>\u001b[0m in \u001b[0;36m<module>\u001b[1;34m\u001b[0m\n\u001b[0;32m     19\u001b[0m \u001b[1;33m\u001b[0m\u001b[0m\n\u001b[0;32m     20\u001b[0m         \u001b[0mvalue\u001b[0m \u001b[1;33m=\u001b[0m \u001b[1;34m'#off1'\u001b[0m\u001b[1;33m,\u001b[0m\u001b[1;33m\u001b[0m\u001b[1;33m\u001b[0m\u001b[0m\n\u001b[1;32m---> 21\u001b[1;33m         \u001b[0mclient\u001b[0m\u001b[1;33m.\u001b[0m\u001b[0mpublish\u001b[0m\u001b[1;33m(\u001b[0m\u001b[1;34m\"esp/test\"\u001b[0m\u001b[1;33m,\u001b[0m\u001b[0mvalue\u001b[0m\u001b[1;33m)\u001b[0m\u001b[1;33m\u001b[0m\u001b[1;33m\u001b[0m\u001b[0m\n\u001b[0m\u001b[0;32m     22\u001b[0m         \u001b[0mclient\u001b[0m\u001b[1;33m.\u001b[0m\u001b[0mdisconnect\u001b[0m\u001b[1;33m(\u001b[0m\u001b[1;33m)\u001b[0m\u001b[1;33m\u001b[0m\u001b[1;33m\u001b[0m\u001b[0m\n\u001b[0;32m     23\u001b[0m \u001b[1;33m\u001b[0m\u001b[0m\n",
      "\u001b[1;31mNameError\u001b[0m: name 'client' is not defined"
     ]
    }
   ],
   "source": [
    "def my_function():\n",
    "    broker_address= \"tailor.cloudmqtt.com\"\n",
    "    port = 13534\n",
    "    user = \"whzdnyzv\"\n",
    "    password = \"kAbninqGe4us\"\n",
    "\n",
    "    client = mqttClient.Client(\"Python\")               #create new instance\n",
    "    client.username_pw_set(user, password=password)    #set username and password\n",
    "    client.on_connect= on_connect                      #attach function to callback\n",
    "    client.connect(broker_address, port=port)          #connect to broker\n",
    "\n",
    "    client.loop_start()        #start the loop\n",
    "\n",
    "    #while Connected != True:    #Wait for connection\n",
    "       # time.sleep(0.1)\n",
    " \n",
    "try:\n",
    "   #while True:\n",
    " \n",
    "        value = '#off1',\n",
    "        client.publish(\"esp/test\",value)\n",
    "        client.disconnect()\n",
    " \n",
    "except KeyboardInterrupt:\n",
    " \n",
    "    client.loop_stop()"
   ]
  },
  {
   "cell_type": "code",
   "execution_count": 8,
   "metadata": {},
   "outputs": [],
   "source": [
    "con=sqlite3.connect(\"D:\\software\\sqlite\\dbsqlite\\kartdb.db\")\n",
    "con.close()\n",
    "key='2100883742DC',\n",
    "key1='0800A939EA72',\n",
    "key2='2100883742DC',\n",
    "key3='16009581C0C2',"
   ]
  },
  {
   "cell_type": "code",
   "execution_count": null,
   "metadata": {},
   "outputs": [],
   "source": [
    "con=sqlite3.connect(\"D:\\software\\sqlite\\dbsqlite\\kartdb.db\")\n",
    "cursor=con.cursor()\n",
    "# emp_query=\"select * from kart\"\n",
    "# cursor.execute(emp_query)\n",
    "# result=cursor.fetchall()\n",
    "# for row in result:\n",
    "#     print(row)\n",
    "    \n",
    "emp_query2=\"select RFID from kart where status='on' AND sno='1' \"\n",
    "cursor.execute(emp_query2)\n",
    "result1=cursor.fetchall()\n",
    "for row1 in result1:\n",
    "    print(row1)\n",
    "    \n",
    "emp_query2=\"select RFID from kart where status='on' AND sno='2'\"\n",
    "cursor.execute(emp_query2)\n",
    "result2=cursor.fetchall()\n",
    "for row2 in result2:\n",
    "   print(row2)\n",
    "    \n",
    "emp_query3=\"select RFID from kart where status='on' AND sno='3'\"\n",
    "cursor.execute(emp_query3)\n",
    "result3=cursor.fetchall()\n",
    "for row3 in result3:\n",
    "    print(row3)\n",
    "    \n",
    "if key == row1:\n",
    "    {\n",
    "#     value = '#off1',\n",
    "    my_function()\n",
    "    #break\n",
    "    }\n",
    "    \n",
    "elif key == row2:\n",
    "    {\n",
    "#     value = '#off2',\n",
    "    my_function()\n",
    "    #break\n",
    "    }\n",
    "    \n",
    "elif key == row3:\n",
    "    {\n",
    "#     value = '#off3',\n",
    "    my_function()\n",
    "    #break\n",
    "    }\n",
    "con.close()"
   ]
  },
  {
   "cell_type": "code",
   "execution_count": null,
   "metadata": {},
   "outputs": [],
   "source": []
  },
  {
   "cell_type": "code",
   "execution_count": null,
   "metadata": {},
   "outputs": [],
   "source": []
  },
  {
   "cell_type": "code",
   "execution_count": null,
   "metadata": {},
   "outputs": [],
   "source": []
  }
 ],
 "metadata": {
  "kernelspec": {
   "display_name": "Python 3",
   "language": "python",
   "name": "python3"
  },
  "language_info": {
   "codemirror_mode": {
    "name": "ipython",
    "version": 3
   },
   "file_extension": ".py",
   "mimetype": "text/x-python",
   "name": "python",
   "nbconvert_exporter": "python",
   "pygments_lexer": "ipython3",
   "version": "3.7.4"
  }
 },
 "nbformat": 4,
 "nbformat_minor": 2
}
