{
 "cells": [
  {
   "cell_type": "code",
   "execution_count": null,
   "metadata": {},
   "outputs": [
    {
     "name": "stdout",
     "output_type": "stream",
     "text": [
      "Connected to broker\n"
     ]
    },
    {
     "name": "stderr",
     "output_type": "stream",
     "text": [
      "Exception in thread Thread-6:\n",
      "Traceback (most recent call last):\n",
      "  File \"D:\\software\\python\\anaconda\\lib\\threading.py\", line 926, in _bootstrap_inner\n",
      "    self.run()\n",
      "  File \"D:\\software\\python\\anaconda\\lib\\threading.py\", line 870, in run\n",
      "    self._target(*self._args, **self._kwargs)\n",
      "  File \"D:\\software\\python\\anaconda\\lib\\site-packages\\paho\\mqtt\\client.py\", line 2650, in _thread_main\n",
      "    self.loop_forever(retry_first_connection=True)\n",
      "  File \"D:\\software\\python\\anaconda\\lib\\site-packages\\paho\\mqtt\\client.py\", line 1481, in loop_forever\n",
      "    rc = self.loop(timeout, max_packets)\n",
      "  File \"D:\\software\\python\\anaconda\\lib\\site-packages\\paho\\mqtt\\client.py\", line 1003, in loop\n",
      "    rc = self.loop_read(max_packets)\n",
      "  File \"D:\\software\\python\\anaconda\\lib\\site-packages\\paho\\mqtt\\client.py\", line 1284, in loop_read\n",
      "    rc = self._packet_read()\n",
      "  File \"D:\\software\\python\\anaconda\\lib\\site-packages\\paho\\mqtt\\client.py\", line 1849, in _packet_read\n",
      "    rc = self._packet_handle()\n",
      "  File \"D:\\software\\python\\anaconda\\lib\\site-packages\\paho\\mqtt\\client.py\", line 2305, in _packet_handle\n",
      "    return self._handle_publish()\n",
      "  File \"D:\\software\\python\\anaconda\\lib\\site-packages\\paho\\mqtt\\client.py\", line 2500, in _handle_publish\n",
      "    self._handle_on_message(message)\n",
      "  File \"D:\\software\\python\\anaconda\\lib\\site-packages\\paho\\mqtt\\client.py\", line 2647, in _handle_on_message\n",
      "    self.on_message(self, self._userdata, message)\n",
      "  File \"<ipython-input-1-ef252f8bf6be>\", line 18, in on_message\n",
      "    print(\"Message received: \"  + message.payload)\n",
      "TypeError: can only concatenate str (not \"bytes\") to str\n",
      "\n"
     ]
    }
   ],
   "source": [
    "import paho.mqtt.client as mqttClient\n",
    "import time\n",
    " \n",
    "def on_connect(client, userdata, flags, rc):\n",
    " \n",
    "    if rc == 0:\n",
    " \n",
    "        print(\"Connected to broker\")\n",
    " \n",
    "        global Connected                #Use global variable\n",
    "        Connected = True                #Signal connection \n",
    " \n",
    "    else:\n",
    " \n",
    "        print(\"Connection failed\")\n",
    " \n",
    "def on_message(client, userdata, message):\n",
    "    print(\"Message received: \"  + message.payload)\n",
    " \n",
    "Connected = False   #global variable for the state of the connection\n",
    " \n",
    "broker_address= \"tailor.cloudmqtt.com\"  #Broker address\n",
    "port = 13534                         #Broker port\n",
    "user = \"whzdnyzv\"                    #Connection username\n",
    "password = \"kAbninqGe4us\"            #Connection password\n",
    " \n",
    "client = mqttClient.Client(\"Python\")               #create new instance\n",
    "client.username_pw_set(user, password=password)    #set username and password\n",
    "client.on_connect= on_connect                      #attach function to callback\n",
    "client.on_message= on_message                      #attach function to callback\n",
    " \n",
    "client.connect(broker_address, port=port)          #connect to broker\n",
    " \n",
    "client.loop_start()        #start the loop\n",
    " \n",
    "while Connected != True:    #Wait for connection\n",
    "    time.sleep(0.1)\n",
    " \n",
    "client.subscribe(\"esp/test\")\n",
    " \n",
    "try:\n",
    "    while True:\n",
    "        time.sleep(1)\n",
    " \n",
    "except KeyboardInterrupt:\n",
    "    print (\"exiting\")\n",
    "    client.disconnect()\n",
    "    client.loop_stop()"
   ]
  },
  {
   "cell_type": "code",
   "execution_count": null,
   "metadata": {},
   "outputs": [],
   "source": []
  }
 ],
 "metadata": {
  "kernelspec": {
   "display_name": "Python 3",
   "language": "python",
   "name": "python3"
  },
  "language_info": {
   "codemirror_mode": {
    "name": "ipython",
    "version": 3
   },
   "file_extension": ".py",
   "mimetype": "text/x-python",
   "name": "python",
   "nbconvert_exporter": "python",
   "pygments_lexer": "ipython3",
   "version": "3.7.4"
  }
 },
 "nbformat": 4,
 "nbformat_minor": 2
}
