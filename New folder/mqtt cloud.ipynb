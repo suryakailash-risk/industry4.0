{
 "cells": [
  {
   "cell_type": "code",
   "execution_count": 1,
   "metadata": {},
   "outputs": [
    {
     "name": "stdout",
     "output_type": "stream",
     "text": [
      "Connected to broker\n",
      "Connected to broker\n"
     ]
    }
   ],
   "source": [
    "import paho.mqtt.client as mqttClient\n",
    "import time\n",
    " \n",
    "def on_connect(client, userdata, flags, rc):\n",
    " \n",
    "    if rc == 0:\n",
    " \n",
    "        print(\"Connected to broker\")\n",
    " \n",
    "        global Connected                #Use global variable\n",
    "       # Connected = True                #Signal connection \n",
    " \n",
    "    else:\n",
    " \n",
    "        print(\"Connection failed\")\n",
    " \n",
    "Connected = False   #global variable for the state of the connection\n",
    " \n",
    "broker_address= \"tailor.cloudmqtt.com\"\n",
    "port = 13534\n",
    "user = \"whzdnyzv\"\n",
    "password = \"kAbninqGe4us\"\n",
    " \n",
    "client = mqttClient.Client(\"Python\")               #create new instance\n",
    "client.username_pw_set(user, password=password)    #set username and password\n",
    "client.on_connect= on_connect                      #attach function to callback\n",
    "client.connect(broker_address, port=port)          #connect to broker\n",
    " \n",
    "client.loop_start()        #start the loop\n",
    " \n",
    "#while Connected != True:    #Wait for connection\n",
    "#    time.sleep(0.1)\n",
    " \n",
    "try:\n",
    "    #while True:\n",
    " \n",
    "        value = \"#off1\"\n",
    "        client.publish(\"esp/test\",value)\n",
    " \n",
    "except KeyboardInterrupt:\n",
    " \n",
    "    client.disconnect()\n",
    "    client.loop_stop()\n"
   ]
  },
  {
   "cell_type": "code",
   "execution_count": null,
   "metadata": {},
   "outputs": [],
   "source": []
  },
  {
   "cell_type": "code",
   "execution_count": null,
   "metadata": {},
   "outputs": [],
   "source": []
  }
 ],
 "metadata": {
  "kernelspec": {
   "display_name": "Python 3",
   "language": "python",
   "name": "python3"
  },
  "language_info": {
   "codemirror_mode": {
    "name": "ipython",
    "version": 3
   },
   "file_extension": ".py",
   "mimetype": "text/x-python",
   "name": "python",
   "nbconvert_exporter": "python",
   "pygments_lexer": "ipython3",
   "version": "3.7.4"
  }
 },
 "nbformat": 4,
 "nbformat_minor": 2
}
